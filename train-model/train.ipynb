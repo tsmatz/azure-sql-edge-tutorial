{
  "cells": [
    {
      "cell_type": "markdown",
      "source": [
        "# Training Script for SQL Edge Hands-On\r\n",
        "\r\n",
        "To-Do\r\n",
        "- Change values with &lt; &gt; to the appropriate settings. (Total 4 occurance)\r\n",
        "- Make sure to upload ```traindat.csv``` in this directory\r\n",
        "- Run each cells on Azure Machine Learning Notebook"
      ],
      "metadata": {
        "nteract": {
          "transient": {
            "deleting": false
          }
        }
      }
    },
    {
      "cell_type": "markdown",
      "source": [
        "Task 1 : Import required modules."
      ],
      "metadata": {
        "nteract": {
          "transient": {
            "deleting": false
          }
        }
      }
    },
    {
      "cell_type": "code",
      "source": [
        "import azureml.core\r\n",
        "from azureml.core.experiment import Experiment\r\n",
        "from azureml.core.workspace import Workspace\r\n",
        "from azureml.train.automl import AutoMLConfig"
      ],
      "outputs": [],
      "execution_count": null,
      "metadata": {
        "collapsed": true,
        "jupyter": {
          "source_hidden": false,
          "outputs_hidden": false
        },
        "nteract": {
          "transient": {
            "deleting": false
          }
        }
      }
    },
    {
      "cell_type": "markdown",
      "source": [
        "Task 2 : Set AML environments"
      ],
      "metadata": {
        "nteract": {
          "transient": {
            "deleting": false
          }
        }
      }
    },
    {
      "cell_type": "code",
      "source": [
        "ws = Workspace(\r\n",
        "    subscription_id=\"<YOUR SUBSCRIPTION ID>\",\r\n",
        "    resource_group=\"<YOUR RESOURCE GROUP NAME>\",\r\n",
        "    workspace_name=\"<YOUR AML WORKSPACE NAME>\")"
      ],
      "outputs": [],
      "execution_count": null,
      "metadata": {
        "collapsed": true,
        "jupyter": {
          "source_hidden": false,
          "outputs_hidden": false
        },
        "nteract": {
          "transient": {
            "deleting": false
          }
        }
      }
    },
    {
      "cell_type": "markdown",
      "source": [
        "Task 3 : Run automated machine learning (AutoML) job\r\n",
        "\r\n",
        "(This will take several minutes to complete.)"
      ],
      "metadata": {
        "nteract": {
          "transient": {
            "deleting": false
          }
        }
      }
    },
    {
      "cell_type": "code",
      "source": [
        "import pandas as pd\r\n",
        "\r\n",
        "experiment = Experiment(ws, \"sqledge-handson-automl-onnx\")\r\n",
        "df = pd.read_csv(\"traindat.csv\", header=0)\r\n",
        "x_train = df.drop(columns=[\"grade\"])\r\n",
        "y_train = df[\"grade\"]\r\n",
        "automl_config = AutoMLConfig(\r\n",
        "    task = \"classification\",\r\n",
        "    iteration_timeout_minutes = 30,\r\n",
        "    iterations = 10,\r\n",
        "    primary_metric=\"AUC_weighted\",\r\n",
        "    training_data=df,\r\n",
        "    label_column_name=\"grade\",\r\n",
        "    n_cross_validations=2,\r\n",
        "    enable_onnx_compatible_models=True)\r\n",
        "local_run = experiment.submit(automl_config, show_output = True)\r\n",
        "best_run, model = local_run.get_output(return_onnx_model=True)"
      ],
      "outputs": [],
      "execution_count": null,
      "metadata": {
        "collapsed": true,
        "jupyter": {
          "source_hidden": false,
          "outputs_hidden": false
        },
        "nteract": {
          "transient": {
            "deleting": false
          }
        }
      }
    },
    {
      "cell_type": "markdown",
      "source": [
        "Task 4 : Register the generated onnx model into Azure SQL Edge"
      ],
      "metadata": {
        "nteract": {
          "transient": {
            "deleting": false
          }
        }
      }
    },
    {
      "cell_type": "code",
      "source": [
        "import pyodbc\r\n",
        "\r\n",
        "server = \"<YOUR SQL EDGE SERVER IP>\"\r\n",
        "userid = \"sa\"\r\n",
        "password = \"P@ssw0rd\"\r\n",
        "database = \"FoodInspection\"\r\n",
        "\r\n",
        "connection_string = \"Driver={{ODBC Driver 17 for SQL Server}};Server={};Database={};UID={};PWD={};\".format(server, database, userid, password)\r\n",
        "conn = pyodbc.connect(connection_string, autocommit=True)\r\n",
        "cursor = conn.cursor()\r\n",
        "query = f\"INSERT INTO Models ([data], [description]) VALUES (?,'grade column prediction onnx model')\"\r\n",
        "params  = (pyodbc.Binary(model.SerializeToString()))\r\n",
        "cursor.execute(query, params)\r\n",
        "conn.commit()\r\n",
        "cursor.close()\r\n",
        "conn.close()"
      ],
      "outputs": [],
      "execution_count": null,
      "metadata": {
        "collapsed": true,
        "jupyter": {
          "source_hidden": false,
          "outputs_hidden": false
        },
        "nteract": {
          "transient": {
            "deleting": false
          }
        }
      }
    }
  ],
  "metadata": {
    "kernelspec": {
      "name": "python3-azureml",
      "language": "python",
      "display_name": "Python 3.6 - AzureML"
    },
    "language_info": {
      "name": "python",
      "version": "3.6.9",
      "mimetype": "text/x-python",
      "codemirror_mode": {
        "name": "ipython",
        "version": 3
      },
      "pygments_lexer": "ipython3",
      "nbconvert_exporter": "python",
      "file_extension": ".py"
    },
    "kernel_info": {
      "name": "python3-azureml"
    },
    "nteract": {
      "version": "nteract-front-end@1.0.0"
    }
  },
  "nbformat": 4,
  "nbformat_minor": 2
}